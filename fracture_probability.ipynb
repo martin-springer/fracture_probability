{
 "cells": [
  {
   "cell_type": "code",
   "execution_count": null,
   "metadata": {},
   "outputs": [],
   "source": [
    "import numpy as np\n",
    "import matplotlib.pyplot as plt\n",
    "from matplotlib.colors import LinearSegmentedColormap\n",
    "from ipywidgets import interact, fixed\n",
    "import ipywidgets as widgets"
   ]
  },
  {
   "cell_type": "code",
   "execution_count": 2,
   "metadata": {},
   "outputs": [],
   "source": [
    "def distance(stress_x, stress_y, crack_x, crack_y):\n",
    "    return ((stress_x-crack_x)**2+(stress_y-crack_y)**2)**1/2\n",
    "\n",
    "def stress(v, r):\n",
    "    return (1-1/(1+np.exp(r-v)))*(r-v)\n",
    "\n",
    "def probability(stress_x, stress_y, radius, cracks):\n",
    "    sum = []\n",
    "    for name, par in cracks.items():\n",
    "        crack_center_x = (par['crack_start_x'] + par['crack_end_x'])/2\n",
    "        crack_center_y = (par['crack_start_y'] + par['crack_end_y'])/2\n",
    "        v = distance(stress_x, stress_y, crack_center_x, crack_center_y)\n",
    "        s = stress(v, radius)\n",
    "        e = -(s/par['sf'])**par['m']\n",
    "        sum.append(e)\n",
    "\n",
    "        print(f'v({name}) = {v:.3f}')\n",
    "        print(f's({name}) = {s:.3f}')\n",
    "        print(f'e({name}) = {e:.3f}')\n",
    "        print('----')\n",
    "    print(f'exp_sum = {np.sum(sum):.3f}')\n",
    "    print('----')\n",
    "\n",
    "    p = 1-np.exp(np.sum(sum))\n",
    "    print(f'p = {p:.3f}')\n",
    "    return p"
   ]
  },
  {
   "cell_type": "code",
   "execution_count": 3,
   "metadata": {},
   "outputs": [],
   "source": [
    "def stress_gradient(stress_x, stress_y, outer_radius=1.2):\n",
    "    inner_radius = 0.\n",
    "    # outer_radius = 1.2\n",
    "    halo_color = 'red'\n",
    "    center_color = 'black'  ## redish with 25% alpha\n",
    "    xmin = stress_x - outer_radius\n",
    "    xmax = stress_x + outer_radius\n",
    "    ymin = stress_y - outer_radius\n",
    "    ymax = stress_y + outer_radius\n",
    "    x, y = np.meshgrid(np.linspace(xmin, xmax, 500), np.linspace(ymin, ymax, 500))\n",
    "    r = np.sqrt((x - stress_x) ** 2 + (y - stress_y) ** 2)\n",
    "    z = np.where(r < inner_radius, np.nan, np.clip(outer_radius - r, 0, np.inf))\n",
    "    cmap = LinearSegmentedColormap.from_list('', ['#FFFFFF00', halo_color])\n",
    "    cmap.set_bad(center_color)\n",
    "\n",
    "    extend=[xmin, xmax, ymin, ymax]\n",
    "\n",
    "    return z, extend, cmap\n",
    "\n",
    "def find_marker_coor(base, cumulative, value):\n",
    "    cumulative = np.asarray(cumulative)\n",
    "    idx = (np.abs(cumulative - value)).argmin()\n",
    "    return base[idx], value"
   ]
  },
  {
   "cell_type": "code",
   "execution_count": 4,
   "metadata": {},
   "outputs": [],
   "source": [
    "# some fake data for distribution\n",
    "data = np.random.randn(1000)\n",
    "def cum_prob(data):\n",
    "    # evaluate the histogram\n",
    "    values, base = np.histogram(data, bins=40)\n",
    "    #evaluate the cumulative\n",
    "    cumulative = np.cumsum(values)/1000\n",
    "\n",
    "    return base[:-1], cumulative\n"
   ]
  },
  {
   "cell_type": "code",
   "execution_count": 26,
   "metadata": {},
   "outputs": [],
   "source": [
    "def plot_prob(stress_x, stress_y, stress_radius, plate_radius, cracks, i=0):\n",
    "    fig, ax = plt.subplots(2,1, figsize=(5,10))\n",
    "\n",
    "    circle1 = plt.Circle((0, 0), plate_radius, color='k', fill=False, lw=3)\n",
    "    for name, par in cracks.items():\n",
    "        ax[0].plot([par['crack_start_x'], par['crack_end_x']], [par['crack_start_y'], par['crack_end_y']], 'k', lw=3)\n",
    "\n",
    "    ax[0].set_aspect(1)\n",
    "    ax[0].add_artist(circle1)\n",
    "    ax[0].set_xlim(-1.2*plate_radius, 1.2*plate_radius)\n",
    "    ax[0].set_ylim(-1.2*plate_radius, 1.2*plate_radius)\n",
    "    ax[0].set_axis_off()\n",
    "\n",
    "    z, extend, cmap = stress_gradient(stress_x, stress_y, stress_radius)\n",
    "    ax[0].imshow(z, cmap=cmap, extent=extend, origin='lower', zorder=3)\n",
    "\n",
    "    # plot the cumulative function\n",
    "    base, cumulative = cum_prob(data)\n",
    "    ax[1].plot(base, cumulative, c='blue')\n",
    "\n",
    "    # calculate the probability\n",
    "    p = probability(stress_x, stress_y, stress_radius, cracks)\n",
    "    marker_x, marker_y = find_marker_coor(base, cumulative, p)\n",
    "    ax[1].plot(marker_x, marker_y, 'ro', markersize=10)\n",
    "\n",
    "    plt.plot()\n",
    "\n",
    "    # fig.savefig(f'plots/stress_gradient_{i:02d}.png', dpi=300, bbox_inches='tight')\n"
   ]
  },
  {
   "cell_type": "code",
   "execution_count": 27,
   "metadata": {},
   "outputs": [],
   "source": [
    "# stress_x_arr = np.linspace(0,1,11)\n",
    "# stress_y_arr = np.linspace(0,1,11)\n",
    "\n",
    "# for i in range(len(stress_x_arr)):\n",
    "#     stress_x = stress_x_arr[i]\n",
    "#     stress_y = stress_y_arr[i]\n",
    "#     plot_prob(stress_x, stress_y, i)"
   ]
  },
  {
   "cell_type": "code",
   "execution_count": 28,
   "metadata": {},
   "outputs": [],
   "source": [
    "stress_x = 1.\n",
    "stress_y = 1.\n",
    "stress_radius = 1\n",
    "plate_radius = 1\n",
    "\n",
    "cracks = {\n",
    "    'crack_1': {\n",
    "            'crack_start_x': 0.5,\n",
    "            'crack_start_y': 0.5,\n",
    "            'crack_end_x': 0.4,\n",
    "            'crack_end_y': 0.4,\n",
    "            'sf': 0.3,\n",
    "            'm': 3,\n",
    "            },\n",
    "    'crack_2': {\n",
    "            'crack_start_x': -0.4,\n",
    "            'crack_start_y': -0.4,\n",
    "            'crack_end_x': -0.7,\n",
    "            'crack_end_y': 0.4,\n",
    "            'sf': 0.4,\n",
    "            'm': 2,\n",
    "            },\n",
    "    'crack_3': {\n",
    "        'crack_start_x': 0.5,\n",
    "        'crack_start_y': -0.5,\n",
    "        'crack_end_x': 0.2,\n",
    "        'crack_end_y': -0.4,\n",
    "        'sf': 0.3,\n",
    "        'm': 2,\n",
    "        },\n",
    "    }\n",
    "\n",
    "# plot_prob(stress_x, stress_y, stress_radius, plate_radius, cracks)"
   ]
  },
  {
   "cell_type": "code",
   "execution_count": 30,
   "metadata": {},
   "outputs": [
    {
     "data": {
      "application/vnd.jupyter.widget-view+json": {
       "model_id": "4ff0f4f4922a42edbdc26befba6b951c",
       "version_major": 2,
       "version_minor": 0
      },
      "text/plain": [
       "interactive(children=(FloatSlider(value=0.0, description='stress_x', max=1.2, min=-1.2), FloatSlider(value=0.0…"
      ]
     },
     "metadata": {},
     "output_type": "display_data"
    },
    {
     "data": {
      "text/plain": [
       "<function __main__.plot_prob(stress_x, stress_y, stress_radius, plate_radius, cracks, i=0)>"
      ]
     },
     "execution_count": 30,
     "metadata": {},
     "output_type": "execute_result"
    }
   ],
   "source": [
    "interact(plot_prob,\n",
    "         stress_x = widgets.FloatSlider(value=0, min=-1.2*plate_radius, max=1.2*plate_radius, step=0.1),\n",
    "         stress_y = widgets.FloatSlider(value=0, min=-1.2*plate_radius, max=1.2*plate_radius, step=0.1),\n",
    "         stress_radius = widgets.FloatSlider(value=plate_radius, min=0.1*plate_radius, max=2*plate_radius, step=0.1),\n",
    "         plate_radius = fixed(plate_radius),\n",
    "         cracks = fixed(cracks),\n",
    "         i = fixed(0)\n",
    "         )"
   ]
  }
 ],
 "metadata": {
  "kernelspec": {
   "display_name": "pvfleets100",
   "language": "python",
   "name": "python3"
  },
  "language_info": {
   "codemirror_mode": {
    "name": "ipython",
    "version": 3
   },
   "file_extension": ".py",
   "mimetype": "text/x-python",
   "name": "python",
   "nbconvert_exporter": "python",
   "pygments_lexer": "ipython3",
   "version": "3.10.13"
  }
 },
 "nbformat": 4,
 "nbformat_minor": 2
}
